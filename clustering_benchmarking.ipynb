{
  "cells": [
    {
      "cell_type": "markdown",
      "metadata": {
        "id": "view-in-github",
        "colab_type": "text"
      },
      "source": [
        "<a href=\"https://colab.research.google.com/github/aryan-at-ul/customer_segmentation/blob/main/clustering_benchmarking.ipynb\" target=\"_parent\"><img src=\"https://colab.research.google.com/assets/colab-badge.svg\" alt=\"Open In Colab\"/></a>"
      ]
    },
    {
      "cell_type": "code",
      "execution_count": null,
      "metadata": {
        "id": "gYuR5fY8tMBL"
      },
      "outputs": [],
      "source": [
        "data_path = \"/content/drive/MyDrive/customer_segmentation/bank-full.csv\"\n",
        "#one can download csv from public folder and use it."
      ]
    },
    {
      "cell_type": "code",
      "execution_count": null,
      "metadata": {
        "colab": {
          "base_uri": "https://localhost:8080/"
        },
        "id": "kQzv7D-6tVVJ",
        "outputId": "a0a99ef8-88f2-4427-e117-8584e045a10c"
      },
      "outputs": [
        {
          "output_type": "stream",
          "name": "stdout",
          "text": [
            "Mounted at /content/drive\n"
          ]
        }
      ],
      "source": [
        "from google.colab import drive\n",
        "drive.mount('/content/drive',force_remount=True)"
      ]
    },
    {
      "cell_type": "code",
      "execution_count": null,
      "metadata": {
        "id": "vAZ2YKkWtlzD"
      },
      "outputs": [],
      "source": [
        "import pandas as pd\n",
        "import scipy \n",
        "import numpy as np\n",
        "\n",
        "import matplotlib.pyplot as plt\n",
        "import seaborn as sns\n",
        "\n",
        "from collections import Counter\n",
        "import linecache\n",
        "import os\n",
        "import tracemalloc\n",
        "from datetime import datetime\n",
        "from queue import Queue, Empty\n",
        "from resource import getrusage, RUSAGE_SELF\n",
        "from threading import Thread\n",
        "from time import sleep\n",
        "\n",
        "from sklearn.preprocessing import StandardScaler\n",
        "from scipy.cluster.hierarchy import dendrogram,linkage\n",
        "from sklearn.cluster import AgglomerativeClustering\n",
        "from sklearn.cluster import OPTICS\n",
        "from sklearn.cluster import MeanShift\n",
        "from sklearn.mixture import GaussianMixture\n",
        "from sklearn.cluster import SpectralClustering\n",
        "from sklearn.cluster import Birch\n",
        "from sklearn.cluster import KMeans\n",
        "from sklearn.cluster import MiniBatchKMeans\n",
        "from sklearn.decomposition import PCA\n",
        "\n",
        "from sklearn.metrics import silhouette_score,calinski_harabasz_score,davies_bouldin_score\n",
        "\n",
        "import pickle\n",
        "import time \n",
        "#sns skin on matplotlib\n",
        "sns.set()"
      ]
    },
    {
      "cell_type": "code",
      "execution_count": null,
      "metadata": {
        "id": "gGJ19wvM1UGF"
      },
      "outputs": [],
      "source": [
        "from contextlib import contextmanager\n",
        "from timeit import default_timer\n",
        "\n",
        "@contextmanager\n",
        "def elapsed_timer():\n",
        "    start = default_timer()\n",
        "    elapser = lambda: default_timer() - start\n",
        "    yield lambda: elapser()\n",
        "    end = default_timer()\n",
        "    elapser = lambda: end-start"
      ]
    },
    {
      "cell_type": "code",
      "execution_count": null,
      "metadata": {
        "id": "ggCXfKaSU9F4"
      },
      "outputs": [],
      "source": [
        "def display_top(snapshot, key_type='lineno', limit=3, name = None):\n",
        "    snapshot = snapshot.filter_traces((\n",
        "        tracemalloc.Filter(False, \"<frozen importlib._bootstrap>\"),\n",
        "        tracemalloc.Filter(False, \"<unknown>\"),\n",
        "    ))\n",
        "    top_stats = snapshot.statistics(key_type)\n",
        "\n",
        "    print(\"Top %s lines\" % limit)\n",
        "    for index, stat in enumerate(top_stats[:limit], 1):\n",
        "        frame = stat.traceback[0]\n",
        "        # replace \"/path/to/module/file.py\" with \"module/file.py\"\n",
        "        filename = os.sep.join(frame.filename.split(os.sep)[-2:])\n",
        "        print(\"#%s: %s:%s: %.1f KiB\"\n",
        "              % (index, filename, frame.lineno, stat.size / 1024))\n",
        "        line = linecache.getline(frame.filename, frame.lineno).strip()\n",
        "        if line:\n",
        "            print('    %s' % line)\n",
        "\n",
        "    other = top_stats[limit:]\n",
        "    if other:\n",
        "        size = sum(stat.size for stat in other)\n",
        "        print(f\"{len(other)} other: {size / 1024 ** 3} GiB for {name}\")\n",
        "    total = sum(stat.size for stat in top_stats)\n",
        "    print(f\"Total allocated size: {total / 1024 ** 3} GiB for {name}\")"
      ]
    },
    {
      "cell_type": "code",
      "execution_count": null,
      "metadata": {
        "id": "Ztfj0mSlUsqH"
      },
      "outputs": [],
      "source": [
        "def memory_monitor(command_queue: Queue, poll_interval=1,name = None):\n",
        "    tracemalloc.start()\n",
        "    old_max = 0\n",
        "    snapshot = None\n",
        "    while True:\n",
        "        try:\n",
        "            command_queue.get(timeout=poll_interval)\n",
        "            if snapshot is not None:\n",
        "                print(datetime.now())\n",
        "                display_top(snapshot,name = name)\n",
        "\n",
        "            return\n",
        "        except Empty:\n",
        "            max_rss = getrusage(RUSAGE_SELF).ru_maxrss\n",
        "            if max_rss > old_max:\n",
        "                old_max = max_rss\n",
        "                snapshot = tracemalloc.take_snapshot()\n",
        "                # print(datetime.now(), 'max RSS', max_rss)"
      ]
    },
    {
      "cell_type": "code",
      "execution_count": null,
      "metadata": {
        "colab": {
          "base_uri": "https://localhost:8080/",
          "height": 302
        },
        "id": "PEB4w6BZtopU",
        "outputId": "55c185da-8225-4f8a-f5ad-8bf73dd326b8"
      },
      "outputs": [
        {
          "output_type": "execute_result",
          "data": {
            "text/plain": [
              "    age           job  marital  education default  balance housing loan  \\\n",
              "ID                                                                        \n",
              "0    58    management  married   tertiary      no     2143     yes   no   \n",
              "1    44    technician   single  secondary      no       29     yes   no   \n",
              "2    33  entrepreneur  married  secondary      no        2     yes  yes   \n",
              "3    47   blue-collar  married    unknown      no     1506     yes   no   \n",
              "4    33       unknown   single    unknown      no        1      no   no   \n",
              "\n",
              "    contact  day month  duration  campaign  pdays  previous poutcome   y  \n",
              "ID                                                                        \n",
              "0   unknown    5   may       261         1     -1         0  unknown  no  \n",
              "1   unknown    5   may       151         1     -1         0  unknown  no  \n",
              "2   unknown    5   may        76         1     -1         0  unknown  no  \n",
              "3   unknown    5   may        92         1     -1         0  unknown  no  \n",
              "4   unknown    5   may       198         1     -1         0  unknown  no  "
            ],
            "text/html": [
              "\n",
              "  <div id=\"df-98432cfc-c04b-4573-8a88-ba0bb1afb933\">\n",
              "    <div class=\"colab-df-container\">\n",
              "      <div>\n",
              "<style scoped>\n",
              "    .dataframe tbody tr th:only-of-type {\n",
              "        vertical-align: middle;\n",
              "    }\n",
              "\n",
              "    .dataframe tbody tr th {\n",
              "        vertical-align: top;\n",
              "    }\n",
              "\n",
              "    .dataframe thead th {\n",
              "        text-align: right;\n",
              "    }\n",
              "</style>\n",
              "<table border=\"1\" class=\"dataframe\">\n",
              "  <thead>\n",
              "    <tr style=\"text-align: right;\">\n",
              "      <th></th>\n",
              "      <th>age</th>\n",
              "      <th>job</th>\n",
              "      <th>marital</th>\n",
              "      <th>education</th>\n",
              "      <th>default</th>\n",
              "      <th>balance</th>\n",
              "      <th>housing</th>\n",
              "      <th>loan</th>\n",
              "      <th>contact</th>\n",
              "      <th>day</th>\n",
              "      <th>month</th>\n",
              "      <th>duration</th>\n",
              "      <th>campaign</th>\n",
              "      <th>pdays</th>\n",
              "      <th>previous</th>\n",
              "      <th>poutcome</th>\n",
              "      <th>y</th>\n",
              "    </tr>\n",
              "    <tr>\n",
              "      <th>ID</th>\n",
              "      <th></th>\n",
              "      <th></th>\n",
              "      <th></th>\n",
              "      <th></th>\n",
              "      <th></th>\n",
              "      <th></th>\n",
              "      <th></th>\n",
              "      <th></th>\n",
              "      <th></th>\n",
              "      <th></th>\n",
              "      <th></th>\n",
              "      <th></th>\n",
              "      <th></th>\n",
              "      <th></th>\n",
              "      <th></th>\n",
              "      <th></th>\n",
              "      <th></th>\n",
              "    </tr>\n",
              "  </thead>\n",
              "  <tbody>\n",
              "    <tr>\n",
              "      <th>0</th>\n",
              "      <td>58</td>\n",
              "      <td>management</td>\n",
              "      <td>married</td>\n",
              "      <td>tertiary</td>\n",
              "      <td>no</td>\n",
              "      <td>2143</td>\n",
              "      <td>yes</td>\n",
              "      <td>no</td>\n",
              "      <td>unknown</td>\n",
              "      <td>5</td>\n",
              "      <td>may</td>\n",
              "      <td>261</td>\n",
              "      <td>1</td>\n",
              "      <td>-1</td>\n",
              "      <td>0</td>\n",
              "      <td>unknown</td>\n",
              "      <td>no</td>\n",
              "    </tr>\n",
              "    <tr>\n",
              "      <th>1</th>\n",
              "      <td>44</td>\n",
              "      <td>technician</td>\n",
              "      <td>single</td>\n",
              "      <td>secondary</td>\n",
              "      <td>no</td>\n",
              "      <td>29</td>\n",
              "      <td>yes</td>\n",
              "      <td>no</td>\n",
              "      <td>unknown</td>\n",
              "      <td>5</td>\n",
              "      <td>may</td>\n",
              "      <td>151</td>\n",
              "      <td>1</td>\n",
              "      <td>-1</td>\n",
              "      <td>0</td>\n",
              "      <td>unknown</td>\n",
              "      <td>no</td>\n",
              "    </tr>\n",
              "    <tr>\n",
              "      <th>2</th>\n",
              "      <td>33</td>\n",
              "      <td>entrepreneur</td>\n",
              "      <td>married</td>\n",
              "      <td>secondary</td>\n",
              "      <td>no</td>\n",
              "      <td>2</td>\n",
              "      <td>yes</td>\n",
              "      <td>yes</td>\n",
              "      <td>unknown</td>\n",
              "      <td>5</td>\n",
              "      <td>may</td>\n",
              "      <td>76</td>\n",
              "      <td>1</td>\n",
              "      <td>-1</td>\n",
              "      <td>0</td>\n",
              "      <td>unknown</td>\n",
              "      <td>no</td>\n",
              "    </tr>\n",
              "    <tr>\n",
              "      <th>3</th>\n",
              "      <td>47</td>\n",
              "      <td>blue-collar</td>\n",
              "      <td>married</td>\n",
              "      <td>unknown</td>\n",
              "      <td>no</td>\n",
              "      <td>1506</td>\n",
              "      <td>yes</td>\n",
              "      <td>no</td>\n",
              "      <td>unknown</td>\n",
              "      <td>5</td>\n",
              "      <td>may</td>\n",
              "      <td>92</td>\n",
              "      <td>1</td>\n",
              "      <td>-1</td>\n",
              "      <td>0</td>\n",
              "      <td>unknown</td>\n",
              "      <td>no</td>\n",
              "    </tr>\n",
              "    <tr>\n",
              "      <th>4</th>\n",
              "      <td>33</td>\n",
              "      <td>unknown</td>\n",
              "      <td>single</td>\n",
              "      <td>unknown</td>\n",
              "      <td>no</td>\n",
              "      <td>1</td>\n",
              "      <td>no</td>\n",
              "      <td>no</td>\n",
              "      <td>unknown</td>\n",
              "      <td>5</td>\n",
              "      <td>may</td>\n",
              "      <td>198</td>\n",
              "      <td>1</td>\n",
              "      <td>-1</td>\n",
              "      <td>0</td>\n",
              "      <td>unknown</td>\n",
              "      <td>no</td>\n",
              "    </tr>\n",
              "  </tbody>\n",
              "</table>\n",
              "</div>\n",
              "      <button class=\"colab-df-convert\" onclick=\"convertToInteractive('df-98432cfc-c04b-4573-8a88-ba0bb1afb933')\"\n",
              "              title=\"Convert this dataframe to an interactive table.\"\n",
              "              style=\"display:none;\">\n",
              "        \n",
              "  <svg xmlns=\"http://www.w3.org/2000/svg\" height=\"24px\"viewBox=\"0 0 24 24\"\n",
              "       width=\"24px\">\n",
              "    <path d=\"M0 0h24v24H0V0z\" fill=\"none\"/>\n",
              "    <path d=\"M18.56 5.44l.94 2.06.94-2.06 2.06-.94-2.06-.94-.94-2.06-.94 2.06-2.06.94zm-11 1L8.5 8.5l.94-2.06 2.06-.94-2.06-.94L8.5 2.5l-.94 2.06-2.06.94zm10 10l.94 2.06.94-2.06 2.06-.94-2.06-.94-.94-2.06-.94 2.06-2.06.94z\"/><path d=\"M17.41 7.96l-1.37-1.37c-.4-.4-.92-.59-1.43-.59-.52 0-1.04.2-1.43.59L10.3 9.45l-7.72 7.72c-.78.78-.78 2.05 0 2.83L4 21.41c.39.39.9.59 1.41.59.51 0 1.02-.2 1.41-.59l7.78-7.78 2.81-2.81c.8-.78.8-2.07 0-2.86zM5.41 20L4 18.59l7.72-7.72 1.47 1.35L5.41 20z\"/>\n",
              "  </svg>\n",
              "      </button>\n",
              "      \n",
              "  <style>\n",
              "    .colab-df-container {\n",
              "      display:flex;\n",
              "      flex-wrap:wrap;\n",
              "      gap: 12px;\n",
              "    }\n",
              "\n",
              "    .colab-df-convert {\n",
              "      background-color: #E8F0FE;\n",
              "      border: none;\n",
              "      border-radius: 50%;\n",
              "      cursor: pointer;\n",
              "      display: none;\n",
              "      fill: #1967D2;\n",
              "      height: 32px;\n",
              "      padding: 0 0 0 0;\n",
              "      width: 32px;\n",
              "    }\n",
              "\n",
              "    .colab-df-convert:hover {\n",
              "      background-color: #E2EBFA;\n",
              "      box-shadow: 0px 1px 2px rgba(60, 64, 67, 0.3), 0px 1px 3px 1px rgba(60, 64, 67, 0.15);\n",
              "      fill: #174EA6;\n",
              "    }\n",
              "\n",
              "    [theme=dark] .colab-df-convert {\n",
              "      background-color: #3B4455;\n",
              "      fill: #D2E3FC;\n",
              "    }\n",
              "\n",
              "    [theme=dark] .colab-df-convert:hover {\n",
              "      background-color: #434B5C;\n",
              "      box-shadow: 0px 1px 3px 1px rgba(0, 0, 0, 0.15);\n",
              "      filter: drop-shadow(0px 1px 2px rgba(0, 0, 0, 0.3));\n",
              "      fill: #FFFFFF;\n",
              "    }\n",
              "  </style>\n",
              "\n",
              "      <script>\n",
              "        const buttonEl =\n",
              "          document.querySelector('#df-98432cfc-c04b-4573-8a88-ba0bb1afb933 button.colab-df-convert');\n",
              "        buttonEl.style.display =\n",
              "          google.colab.kernel.accessAllowed ? 'block' : 'none';\n",
              "\n",
              "        async function convertToInteractive(key) {\n",
              "          const element = document.querySelector('#df-98432cfc-c04b-4573-8a88-ba0bb1afb933');\n",
              "          const dataTable =\n",
              "            await google.colab.kernel.invokeFunction('convertToInteractive',\n",
              "                                                     [key], {});\n",
              "          if (!dataTable) return;\n",
              "\n",
              "          const docLinkHtml = 'Like what you see? Visit the ' +\n",
              "            '<a target=\"_blank\" href=https://colab.research.google.com/notebooks/data_table.ipynb>data table notebook</a>'\n",
              "            + ' to learn more about interactive tables.';\n",
              "          element.innerHTML = '';\n",
              "          dataTable['output_type'] = 'display_data';\n",
              "          await google.colab.output.renderOutput(dataTable, element);\n",
              "          const docLink = document.createElement('div');\n",
              "          docLink.innerHTML = docLinkHtml;\n",
              "          element.appendChild(docLink);\n",
              "        }\n",
              "      </script>\n",
              "    </div>\n",
              "  </div>\n",
              "  "
            ]
          },
          "metadata": {},
          "execution_count": 7
        }
      ],
      "source": [
        "df_segmentation = pd.read_csv(data_path, sep = ';')#,nrows= 1000)\n",
        "# df_segmentation['ID'] = df_segmentation.reset_index(level=0)\n",
        "df_segmentation['ID'] = df_segmentation.index\n",
        "df_segmentation.set_index('ID', inplace=True)\n",
        "# df_segmentation.drop(['y'],axis=1, inplace=True)\n",
        "df_segmentation.head()"
      ]
    },
    {
      "cell_type": "code",
      "execution_count": null,
      "metadata": {
        "colab": {
          "base_uri": "https://localhost:8080/"
        },
        "id": "TBJfxsHkuITW",
        "outputId": "5cf9e6c0-8a2b-4fa7-fed1-a570fcf88c25"
      },
      "outputs": [
        {
          "output_type": "stream",
          "name": "stdout",
          "text": [
            "number of features in this dataset is : 17\n"
          ]
        }
      ],
      "source": [
        "#converting object category to numercical category\n",
        "cat_columns = df_segmentation.select_dtypes(['object']).columns \n",
        "\n",
        "print(f\"number of features in this dataset is : {len(df_segmentation.columns)}\")"
      ]
    },
    {
      "cell_type": "code",
      "execution_count": null,
      "metadata": {
        "colab": {
          "base_uri": "https://localhost:8080/",
          "height": 302
        },
        "id": "oSPCh600uSlq",
        "outputId": "92c80d82-17cb-4c37-c5b5-753177a8477f"
      },
      "outputs": [
        {
          "output_type": "execute_result",
          "data": {
            "text/plain": [
              "    age  job  marital  education  default  balance  housing  loan  contact  \\\n",
              "ID                                                                           \n",
              "0    58    0        0          0        0     2143        0     0        0   \n",
              "1    44    1        1          1        0       29        0     0        0   \n",
              "2    33    2        0          1        0        2        0     1        0   \n",
              "3    47    3        0          2        0     1506        0     0        0   \n",
              "4    33    4        1          2        0        1        1     0        0   \n",
              "\n",
              "    day  month  duration  campaign  pdays  previous  poutcome  y  \n",
              "ID                                                                \n",
              "0     5      0       261         1     -1         0         0  0  \n",
              "1     5      0       151         1     -1         0         0  0  \n",
              "2     5      0        76         1     -1         0         0  0  \n",
              "3     5      0        92         1     -1         0         0  0  \n",
              "4     5      0       198         1     -1         0         0  0  "
            ],
            "text/html": [
              "\n",
              "  <div id=\"df-49ef5b10-0757-465a-b6c4-d7beb9d034ca\">\n",
              "    <div class=\"colab-df-container\">\n",
              "      <div>\n",
              "<style scoped>\n",
              "    .dataframe tbody tr th:only-of-type {\n",
              "        vertical-align: middle;\n",
              "    }\n",
              "\n",
              "    .dataframe tbody tr th {\n",
              "        vertical-align: top;\n",
              "    }\n",
              "\n",
              "    .dataframe thead th {\n",
              "        text-align: right;\n",
              "    }\n",
              "</style>\n",
              "<table border=\"1\" class=\"dataframe\">\n",
              "  <thead>\n",
              "    <tr style=\"text-align: right;\">\n",
              "      <th></th>\n",
              "      <th>age</th>\n",
              "      <th>job</th>\n",
              "      <th>marital</th>\n",
              "      <th>education</th>\n",
              "      <th>default</th>\n",
              "      <th>balance</th>\n",
              "      <th>housing</th>\n",
              "      <th>loan</th>\n",
              "      <th>contact</th>\n",
              "      <th>day</th>\n",
              "      <th>month</th>\n",
              "      <th>duration</th>\n",
              "      <th>campaign</th>\n",
              "      <th>pdays</th>\n",
              "      <th>previous</th>\n",
              "      <th>poutcome</th>\n",
              "      <th>y</th>\n",
              "    </tr>\n",
              "    <tr>\n",
              "      <th>ID</th>\n",
              "      <th></th>\n",
              "      <th></th>\n",
              "      <th></th>\n",
              "      <th></th>\n",
              "      <th></th>\n",
              "      <th></th>\n",
              "      <th></th>\n",
              "      <th></th>\n",
              "      <th></th>\n",
              "      <th></th>\n",
              "      <th></th>\n",
              "      <th></th>\n",
              "      <th></th>\n",
              "      <th></th>\n",
              "      <th></th>\n",
              "      <th></th>\n",
              "      <th></th>\n",
              "    </tr>\n",
              "  </thead>\n",
              "  <tbody>\n",
              "    <tr>\n",
              "      <th>0</th>\n",
              "      <td>58</td>\n",
              "      <td>0</td>\n",
              "      <td>0</td>\n",
              "      <td>0</td>\n",
              "      <td>0</td>\n",
              "      <td>2143</td>\n",
              "      <td>0</td>\n",
              "      <td>0</td>\n",
              "      <td>0</td>\n",
              "      <td>5</td>\n",
              "      <td>0</td>\n",
              "      <td>261</td>\n",
              "      <td>1</td>\n",
              "      <td>-1</td>\n",
              "      <td>0</td>\n",
              "      <td>0</td>\n",
              "      <td>0</td>\n",
              "    </tr>\n",
              "    <tr>\n",
              "      <th>1</th>\n",
              "      <td>44</td>\n",
              "      <td>1</td>\n",
              "      <td>1</td>\n",
              "      <td>1</td>\n",
              "      <td>0</td>\n",
              "      <td>29</td>\n",
              "      <td>0</td>\n",
              "      <td>0</td>\n",
              "      <td>0</td>\n",
              "      <td>5</td>\n",
              "      <td>0</td>\n",
              "      <td>151</td>\n",
              "      <td>1</td>\n",
              "      <td>-1</td>\n",
              "      <td>0</td>\n",
              "      <td>0</td>\n",
              "      <td>0</td>\n",
              "    </tr>\n",
              "    <tr>\n",
              "      <th>2</th>\n",
              "      <td>33</td>\n",
              "      <td>2</td>\n",
              "      <td>0</td>\n",
              "      <td>1</td>\n",
              "      <td>0</td>\n",
              "      <td>2</td>\n",
              "      <td>0</td>\n",
              "      <td>1</td>\n",
              "      <td>0</td>\n",
              "      <td>5</td>\n",
              "      <td>0</td>\n",
              "      <td>76</td>\n",
              "      <td>1</td>\n",
              "      <td>-1</td>\n",
              "      <td>0</td>\n",
              "      <td>0</td>\n",
              "      <td>0</td>\n",
              "    </tr>\n",
              "    <tr>\n",
              "      <th>3</th>\n",
              "      <td>47</td>\n",
              "      <td>3</td>\n",
              "      <td>0</td>\n",
              "      <td>2</td>\n",
              "      <td>0</td>\n",
              "      <td>1506</td>\n",
              "      <td>0</td>\n",
              "      <td>0</td>\n",
              "      <td>0</td>\n",
              "      <td>5</td>\n",
              "      <td>0</td>\n",
              "      <td>92</td>\n",
              "      <td>1</td>\n",
              "      <td>-1</td>\n",
              "      <td>0</td>\n",
              "      <td>0</td>\n",
              "      <td>0</td>\n",
              "    </tr>\n",
              "    <tr>\n",
              "      <th>4</th>\n",
              "      <td>33</td>\n",
              "      <td>4</td>\n",
              "      <td>1</td>\n",
              "      <td>2</td>\n",
              "      <td>0</td>\n",
              "      <td>1</td>\n",
              "      <td>1</td>\n",
              "      <td>0</td>\n",
              "      <td>0</td>\n",
              "      <td>5</td>\n",
              "      <td>0</td>\n",
              "      <td>198</td>\n",
              "      <td>1</td>\n",
              "      <td>-1</td>\n",
              "      <td>0</td>\n",
              "      <td>0</td>\n",
              "      <td>0</td>\n",
              "    </tr>\n",
              "  </tbody>\n",
              "</table>\n",
              "</div>\n",
              "      <button class=\"colab-df-convert\" onclick=\"convertToInteractive('df-49ef5b10-0757-465a-b6c4-d7beb9d034ca')\"\n",
              "              title=\"Convert this dataframe to an interactive table.\"\n",
              "              style=\"display:none;\">\n",
              "        \n",
              "  <svg xmlns=\"http://www.w3.org/2000/svg\" height=\"24px\"viewBox=\"0 0 24 24\"\n",
              "       width=\"24px\">\n",
              "    <path d=\"M0 0h24v24H0V0z\" fill=\"none\"/>\n",
              "    <path d=\"M18.56 5.44l.94 2.06.94-2.06 2.06-.94-2.06-.94-.94-2.06-.94 2.06-2.06.94zm-11 1L8.5 8.5l.94-2.06 2.06-.94-2.06-.94L8.5 2.5l-.94 2.06-2.06.94zm10 10l.94 2.06.94-2.06 2.06-.94-2.06-.94-.94-2.06-.94 2.06-2.06.94z\"/><path d=\"M17.41 7.96l-1.37-1.37c-.4-.4-.92-.59-1.43-.59-.52 0-1.04.2-1.43.59L10.3 9.45l-7.72 7.72c-.78.78-.78 2.05 0 2.83L4 21.41c.39.39.9.59 1.41.59.51 0 1.02-.2 1.41-.59l7.78-7.78 2.81-2.81c.8-.78.8-2.07 0-2.86zM5.41 20L4 18.59l7.72-7.72 1.47 1.35L5.41 20z\"/>\n",
              "  </svg>\n",
              "      </button>\n",
              "      \n",
              "  <style>\n",
              "    .colab-df-container {\n",
              "      display:flex;\n",
              "      flex-wrap:wrap;\n",
              "      gap: 12px;\n",
              "    }\n",
              "\n",
              "    .colab-df-convert {\n",
              "      background-color: #E8F0FE;\n",
              "      border: none;\n",
              "      border-radius: 50%;\n",
              "      cursor: pointer;\n",
              "      display: none;\n",
              "      fill: #1967D2;\n",
              "      height: 32px;\n",
              "      padding: 0 0 0 0;\n",
              "      width: 32px;\n",
              "    }\n",
              "\n",
              "    .colab-df-convert:hover {\n",
              "      background-color: #E2EBFA;\n",
              "      box-shadow: 0px 1px 2px rgba(60, 64, 67, 0.3), 0px 1px 3px 1px rgba(60, 64, 67, 0.15);\n",
              "      fill: #174EA6;\n",
              "    }\n",
              "\n",
              "    [theme=dark] .colab-df-convert {\n",
              "      background-color: #3B4455;\n",
              "      fill: #D2E3FC;\n",
              "    }\n",
              "\n",
              "    [theme=dark] .colab-df-convert:hover {\n",
              "      background-color: #434B5C;\n",
              "      box-shadow: 0px 1px 3px 1px rgba(0, 0, 0, 0.15);\n",
              "      filter: drop-shadow(0px 1px 2px rgba(0, 0, 0, 0.3));\n",
              "      fill: #FFFFFF;\n",
              "    }\n",
              "  </style>\n",
              "\n",
              "      <script>\n",
              "        const buttonEl =\n",
              "          document.querySelector('#df-49ef5b10-0757-465a-b6c4-d7beb9d034ca button.colab-df-convert');\n",
              "        buttonEl.style.display =\n",
              "          google.colab.kernel.accessAllowed ? 'block' : 'none';\n",
              "\n",
              "        async function convertToInteractive(key) {\n",
              "          const element = document.querySelector('#df-49ef5b10-0757-465a-b6c4-d7beb9d034ca');\n",
              "          const dataTable =\n",
              "            await google.colab.kernel.invokeFunction('convertToInteractive',\n",
              "                                                     [key], {});\n",
              "          if (!dataTable) return;\n",
              "\n",
              "          const docLinkHtml = 'Like what you see? Visit the ' +\n",
              "            '<a target=\"_blank\" href=https://colab.research.google.com/notebooks/data_table.ipynb>data table notebook</a>'\n",
              "            + ' to learn more about interactive tables.';\n",
              "          element.innerHTML = '';\n",
              "          dataTable['output_type'] = 'display_data';\n",
              "          await google.colab.output.renderOutput(dataTable, element);\n",
              "          const docLink = document.createElement('div');\n",
              "          docLink.innerHTML = docLinkHtml;\n",
              "          element.appendChild(docLink);\n",
              "        }\n",
              "      </script>\n",
              "    </div>\n",
              "  </div>\n",
              "  "
            ]
          },
          "metadata": {},
          "execution_count": 9
        }
      ],
      "source": [
        "df_segmentation[cat_columns] = df_segmentation[cat_columns].apply(lambda x: pd.factorize(x)[0])\n",
        "df_segmentation.head()"
      ]
    },
    {
      "cell_type": "code",
      "execution_count": null,
      "metadata": {
        "colab": {
          "base_uri": "https://localhost:8080/"
        },
        "id": "Ex7_CrxnugY_",
        "outputId": "59ab0f0a-c5aa-4724-f848-bf611ff1b29d"
      },
      "outputs": [
        {
          "output_type": "execute_result",
          "data": {
            "text/plain": [
              "age            77\n",
              "job            12\n",
              "marital         3\n",
              "education       4\n",
              "default         2\n",
              "balance      7168\n",
              "housing         2\n",
              "loan            2\n",
              "contact         3\n",
              "day            31\n",
              "month          12\n",
              "duration     1573\n",
              "campaign       48\n",
              "pdays         559\n",
              "previous       41\n",
              "poutcome        4\n",
              "y               2\n",
              "dtype: int64"
            ]
          },
          "metadata": {},
          "execution_count": 10
        }
      ],
      "source": [
        "df_segmentation.nunique()"
      ]
    },
    {
      "cell_type": "code",
      "execution_count": null,
      "metadata": {
        "colab": {
          "base_uri": "https://localhost:8080/"
        },
        "id": "TJF2CB9mxaAS",
        "outputId": "152799ef-0f99-4677-bbbf-ffb963e4f475"
      },
      "outputs": [
        {
          "output_type": "execute_result",
          "data": {
            "text/plain": [
              "45211"
            ]
          },
          "metadata": {},
          "execution_count": 11
        }
      ],
      "source": [
        "scalar = StandardScaler()\n",
        "segmentation_std = scalar.fit_transform(df_segmentation)\n",
        "df_segmentation.shape[0]"
      ]
    },
    {
      "cell_type": "code",
      "execution_count": null,
      "metadata": {
        "colab": {
          "base_uri": "https://localhost:8080/",
          "height": 591
        },
        "id": "eQ-ivUvt7gKv",
        "outputId": "a1b60254-bdd3-492d-a6da-91b57134cd35"
      },
      "outputs": [
        {
          "output_type": "execute_result",
          "data": {
            "text/plain": [
              "[]"
            ]
          },
          "metadata": {},
          "execution_count": 12
        },
        {
          "output_type": "display_data",
          "data": {
            "text/plain": [
              "<Figure size 864x648 with 1 Axes>"
            ],
            "image/png": "[encoded data removed]"
          },
          "metadata": {}
        }
      ],
      "source": [
        "#to check how many clusters needed\n",
        "wcss = []\n",
        "for i in range(1,11):\n",
        "    kmeans = KMeans(n_clusters= i, init = 'k-means++', random_state = 42)\n",
        "    kmeans.fit(segmentation_std)\n",
        "    wcss.append(kmeans.inertia_)\n",
        "\n",
        "plt.figure(figsize = (12,9))\n",
        "plt.plot(range(1,11),wcss,marker = 'o', linestyle = '--')\n",
        "plt.xlabel('Number of clusters')\n",
        "plt.ylabel('WCSS')\n",
        "plt.title('K-means clustering')\n",
        "plt.plot()"
      ]
    },
    {
      "cell_type": "code",
      "execution_count": null,
      "metadata": {
        "id": "QuYcIZXK1WmA"
      },
      "outputs": [],
      "source": [
        "def s_score(model,segmentation_std,name):\n",
        "    score = 0\n",
        "    if name in ['k-means','birch','minibatch-kmeans']:\n",
        "        score =  silhouette_score(segmentation_std, model.labels_)\n",
        "    elif name in [\"mean shift\",\"optics\",\"Agglomerative\"]:\n",
        "        score = silhouette_score(segmentation_std,model)\n",
        "    else:\n",
        "        score = silhouette_score(segmentation_std,model.predict(segmentation_std))\n",
        "    print(f\"score for {name} is {score}\")\n",
        "    return score\n",
        "\n",
        "\n",
        "def benchmark_function(cluster_function, data, function_args, function_kwds,name = None):\n",
        "    print(\"\\n\\n=============================================================================\")\n",
        "    print(f\"here we benchmark for : {name}\")\n",
        "    stats = [name]\n",
        "    queue = Queue()\n",
        "    poll_interval = 0.1\n",
        "    monitor_thread = Thread(target=memory_monitor, args=(queue, poll_interval,name))\n",
        "    monitor_thread.start()\n",
        "    try:\n",
        "        s = time.time()\n",
        "        model = cluster_function(data, *function_args, **function_kwds)\n",
        "        e = time.time()\n",
        "        stats.append(e-s)\n",
        "        stats.append(model)\n",
        "    finally:\n",
        "        queue.put('stop')\n",
        "        monitor_thread.join()\n",
        "\n",
        "    return stats # nreturn time taken and memory profile snapshot\n",
        "\n"
      ]
    },
    {
      "cell_type": "code",
      "source": [
        "time_elapsed = []\n",
        "method = []\n",
        "slscore = []\n",
        "s = time.time()"
      ],
      "metadata": {
        "id": "iJlKX5Tazczk"
      },
      "execution_count": null,
      "outputs": []
    },
    {
      "cell_type": "code",
      "execution_count": null,
      "metadata": {
        "colab": {
          "base_uri": "https://localhost:8080/"
        },
        "id": "8j_wDXBm4sRf",
        "outputId": "e40b8e65-4e96-4439-8b8a-af3c20d29255"
      },
      "outputs": [
        {
          "output_type": "stream",
          "name": "stdout",
          "text": [
            "\n",
            "\n",
            "=============================================================================\n",
            "here we benchmark for : k-means\n",
            "2022-06-15 06:01:12.721836\n",
            "Top 3 lines\n",
            "#1: utils/validation.py:746: 6004.7 KiB\n",
            "    array = np.asarray(array, order=order, dtype=dtype)\n",
            "#2: cluster/_kmeans.py:457: 2119.4 KiB\n",
            "    lower_bounds = np.zeros((n_samples, n_clusters), dtype=X.dtype)\n",
            "#3: cluster/_kmeans.py:456: 353.3 KiB\n",
            "    upper_bounds = np.zeros(n_samples, dtype=X.dtype)\n",
            "52 other: 0.0010201837867498398 GiB for k-means\n",
            "Total allocated size: 0.009104786440730095 GiB for k-means\n",
            "score for k-means is 0.12303315196389186\n",
            "k means time = 2.0445101261138916\n"
          ]
        }
      ],
      "source": [
        "\n",
        "#k-means\n",
        "k_means = KMeans(n_clusters = 6, init = 'k-means++', random_state = 42)\n",
        "k_means_data = benchmark_function(k_means.fit,segmentation_std,(), {},\"k-means\")\n",
        "e = time.time()\n",
        "slscore.append(s_score(k_means_data[-1],segmentation_std,\"k-means\"))\n",
        "time_elapsed.append(e-s)\n",
        "method.append('k-means')\n",
        "print(f\"k means time = {e-s}\")\n",
        "\n"
      ]
    },
    {
      "cell_type": "code",
      "source": [
        "#minibatch\n",
        "b_means = MiniBatchKMeans(n_clusters=6, random_state = 42)\n",
        "b_means_data = benchmark_function(b_means.fit,segmentation_std,(), {},\"minibatch-kmeans\")\n",
        "e = time.time()\n",
        "slscore.append(s_score(b_means_data[-1],segmentation_std,\"minibatch-kmeans\"))\n",
        "time_elapsed.append(e-s)\n",
        "method.append('minibatch-kmeans')\n",
        "print(f\"minibatch-kmeans time = {e-s}\")\n",
        "\n"
      ],
      "metadata": {
        "colab": {
          "base_uri": "https://localhost:8080/"
        },
        "id": "aU5JyDG7441H",
        "outputId": "b4d33e77-3df0-45c0-969a-6ac281b9fa5e"
      },
      "execution_count": null,
      "outputs": [
        {
          "output_type": "stream",
          "name": "stdout",
          "text": [
            "\n",
            "\n",
            "=============================================================================\n",
            "here we benchmark for : minibatch-kmeans\n",
            "2022-06-15 06:01:36.456649\n",
            "Top 3 lines\n",
            "#1: utils/validation.py:746: 6004.7 KiB\n",
            "    array = np.asarray(array, order=order, dtype=dtype)\n",
            "#2: cluster/_kmeans.py:1921: 408.1 KiB\n",
            "    X_valid = X[validation_indices]\n",
            "#3: core/einsumfunc.py:1359: 353.3 KiB\n",
            "    return c_einsum(*operands, **kwargs)\n",
            "282 other: 0.0011971788480877876 GiB for minibatch-kmeans\n",
            "Total allocated size: 0.007649836130440235 GiB for minibatch-kmeans\n",
            "score for minibatch-kmeans is 0.09710877238323876\n",
            "minibatch-kmeans time = 25.829875230789185\n"
          ]
        }
      ]
    },
    {
      "cell_type": "code",
      "source": [
        "#   birch \n",
        "s = time.time()\n",
        "birch = Birch(threshold=0.01, n_clusters=6)\n",
        "birch_data = benchmark_function(birch.fit,segmentation_std,(),{},\"birch\")\n",
        "e = time.time()\n",
        "print(f\"birch time = {e-s}\")\n",
        "slscore.append(s_score(birch_data[-1],segmentation_std,\"birch\"))\n",
        "time_elapsed.append(e-s)\n",
        "method.append('birch')\n",
        "\n"
      ],
      "metadata": {
        "colab": {
          "base_uri": "https://localhost:8080/"
        },
        "id": "gzwScRc75B5D",
        "outputId": "1071a67d-b8de-4f5b-cbcb-6354f578f16f"
      },
      "execution_count": null,
      "outputs": [
        {
          "output_type": "stream",
          "name": "stdout",
          "text": [
            "\n",
            "\n",
            "=============================================================================\n",
            "here we benchmark for : birch\n",
            "2022-06-15 06:04:32.991360\n",
            "Top 3 lines\n",
            "#1: utils/extmath.py:153: 1048331.3 KiB\n",
            "    ret = a @ b\n",
            "#2: cluster/_birch.py:297: 13053.9 KiB\n",
            "    self.child_ = None\n",
            "#3: cluster/_birch.py:154: 10899.8 KiB\n",
            "    self.init_centroids_ = np.zeros((branching_factor + 1, n_features))\n",
            "433 other: 0.03001298662275076 GiB for birch\n",
            "Total allocated size: 1.0526236733421683 GiB for birch\n",
            "birch time = 160.0460238456726\n",
            "score for birch is 0.09493450042092845\n"
          ]
        }
      ]
    },
    {
      "cell_type": "code",
      "source": [
        "# gmms\n",
        "s = time.time()\n",
        "gmm = GaussianMixture(n_components=6)\n",
        "gmm_data = benchmark_function(gmm.fit,segmentation_std,(), {},\"gmm\")\n",
        "e = time.time()\n",
        "slscore.append(s_score(gmm_data[-1],segmentation_std,\"gmm\"))\n",
        "print(f\"gmm time = {e-s}\")\n",
        "time_elapsed.append(e-s)\n",
        "method.append('GMM')\n"
      ],
      "metadata": {
        "colab": {
          "base_uri": "https://localhost:8080/"
        },
        "id": "8IeBEfq55F_0",
        "outputId": "d4b3b4c9-0c40-4e41-cf43-cadbbbbbb51b"
      },
      "execution_count": null,
      "outputs": [
        {
          "output_type": "stream",
          "name": "stdout",
          "text": [
            "\n",
            "\n",
            "=============================================================================\n",
            "here we benchmark for : gmm\n",
            "2022-06-15 06:05:01.344692\n",
            "Top 3 lines\n",
            "#1: cluster/_birch.py:297: 13053.9 KiB\n",
            "    self.child_ = None\n",
            "#2: cluster/_birch.py:154: 10899.8 KiB\n",
            "    self.init_centroids_ = np.zeros((branching_factor + 1, n_features))\n",
            "#3: <__array_function__ internals>:6: 7132.0 KiB\n",
            "473 other: 0.03188218828290701 GiB for gmm\n",
            "Total allocated size: 0.061527772806584835 GiB for gmm\n",
            "score for gmm is 0.10447205638333026\n",
            "gmm time = 7.71349310874939\n"
          ]
        }
      ]
    },
    {
      "cell_type": "code",
      "source": [
        "# do not run this, its takes insane amount of time\n",
        "#spectral clustering\n",
        "# s = time.time()\n",
        "# spect = SpectralClustering(n_clusters=8)\n",
        "# spect_data = benchmark_function(spect.fit_predict,segmentation_std,(),{})\n",
        "# e = time.time()\n",
        "# time_elapsed.append(e-s)\n",
        "# print(f\"spectral time = {e-s}\")\n",
        "# method.append('spectral')\n",
        "#mean shift \n",
        "s = time.time()\n",
        "mean_shift = MeanShift(min_bin_freq = 1)\n",
        "mean_shift_data = benchmark_function(mean_shift.fit_predict,segmentation_std,(),{},\"mean shift\")\n",
        "e = time.time()\n",
        "slscore.append(s_score(mean_shift_data[-1],segmentation_std,\"mean shift\"))\n",
        "time_elapsed.append(e-s)\n",
        "print(f\"MeanS hift time = {e-s}\")\n",
        "method.append('mean shift')\n"
      ],
      "metadata": {
        "colab": {
          "base_uri": "https://localhost:8080/"
        },
        "id": "6JimwN3T5JpK",
        "outputId": "4ef3c257-4888-42ed-adda-b6f9089800a5"
      },
      "execution_count": null,
      "outputs": [
        {
          "output_type": "stream",
          "name": "stdout",
          "text": [
            "\n",
            "\n",
            "=============================================================================\n",
            "here we benchmark for : mean shift\n",
            "2022-06-15 06:35:00.083635\n",
            "Top 3 lines\n",
            "#1: utils/extmath.py:153: 176653.1 KiB\n",
            "    ret = a @ b\n",
            "#2: cluster/_birch.py:297: 13053.9 KiB\n",
            "    self.child_ = None\n",
            "#3: cluster/_birch.py:154: 10899.8 KiB\n",
            "    self.init_centroids_ = np.zeros((branching_factor + 1, n_features))\n",
            "507 other: 0.02967233397066593 GiB for mean shift\n",
            "Total allocated size: 0.22098586149513721 GiB for mean shift\n",
            "score for mean shift is 0.39384637347006024\n",
            "MeanS hift time = 1778.6100211143494\n"
          ]
        }
      ]
    },
    {
      "cell_type": "markdown",
      "source": [
        "# ignore this if last cell output is present !\n",
        "\n",
        "(god bless you)\n",
        "\n",
        "last execution result for mean shift \n",
        "\n",
        "here we benchmark on bank dataset for : mean shift\n",
        "2022-06-14 22:34:07.119238\n",
        "Top 3 lines\n",
        "#1: utils/extmath.py:153: 176652.8 KiB\n",
        "    ret = a @ b\n",
        "#2: cluster/_birch.py:297: 13053.9 KiB\n",
        "    self.child_ = None\n",
        "#3: cluster/_birch.py:154: 10899.8 KiB\n",
        "    self.init_centroids_ = np.zeros((branching_factor + 1, n_features))\n",
        "399 other: 0.029468164779245853 GiB for mean shift\n",
        "\n",
        "Total allocated size: 0.22078145388513803 GiB for mean shift\n",
        "\n",
        "MeanS hift time = 2696.1197464466095\n"
      ],
      "metadata": {
        "id": "7D71SiJS37Xs"
      }
    },
    {
      "cell_type": "code",
      "source": [
        "#optics \n",
        "s = time.time()\n",
        "optics = OPTICS(eps=0.8, min_samples=10)\n",
        "optics_data = benchmark_function(optics.fit_predict,segmentation_std,(),{},\"optics\")\n",
        "e = time.time()\n",
        "slscore.append(s_score(mean_shift_data[-1],segmentation_std,\"optics\"))\n",
        "time_elapsed.append(e-s)\n",
        "print(f\"optics time : {e - s }\")\n",
        "method.append('optics')\n"
      ],
      "metadata": {
        "colab": {
          "base_uri": "https://localhost:8080/"
        },
        "id": "NJdoAo0d5M25",
        "outputId": "511b167c-bc44-41a4-e752-cc579651db14"
      },
      "execution_count": null,
      "outputs": [
        {
          "output_type": "stream",
          "name": "stdout",
          "text": [
            "\n",
            "\n",
            "=============================================================================\n",
            "here we benchmark for : optics\n",
            "2022-06-15 07:08:10.989977\n",
            "Top 3 lines\n",
            "#1: utils/extmath.py:153: 1048378.1 KiB\n",
            "    ret = a @ b\n",
            "#2: cluster/_birch.py:297: 13053.9 KiB\n",
            "    self.child_ = None\n",
            "#3: cluster/_birch.py:154: 10899.8 KiB\n",
            "    self.init_centroids_ = np.zeros((branching_factor + 1, n_features))\n",
            "778 other: 0.03488505817949772 GiB for optics\n",
            "Total allocated size: 1.057540314272046 GiB for optics\n",
            "score for optics is 0.39384637347006024\n",
            "optics time : 951.1588716506958\n"
          ]
        }
      ]
    },
    {
      "cell_type": "code",
      "source": [
        "\n",
        "s = time.time()\n",
        "aglo = AgglomerativeClustering(n_clusters=6)\n",
        "aglo_data = benchmark_function(aglo.fit_predict,segmentation_std,(),{},\"Agglomerative\")\n",
        "e = time.time()\n",
        "slscore.append(s_score(mean_shift_data[-1],segmentation_std,\"Agglomerative\"))\n",
        "print(f\"aglo clustering time: {e-s}\")\n",
        "method.append('Agglomerative')\n",
        "time_elapsed.append(e-s)\n",
        "\n"
      ],
      "metadata": {
        "colab": {
          "base_uri": "https://localhost:8080/"
        },
        "id": "iKz91C-g5PHb",
        "outputId": "4f57d656-76e4-41f4-e415-eae48d1922dc"
      },
      "execution_count": null,
      "outputs": [
        {
          "output_type": "stream",
          "name": "stdout",
          "text": [
            "\n",
            "\n",
            "=============================================================================\n",
            "here we benchmark for : Agglomerative\n",
            "2022-06-15 07:13:49.903066\n",
            "Top 3 lines\n",
            "#1: spatial/distance.py:2004: 7984333.3 KiB\n",
            "    dm = np.empty((m * (m - 1)) // 2, dtype=np.double)\n",
            "#2: cluster/_birch.py:297: 13053.9 KiB\n",
            "    self.child_ = None\n",
            "#3: cluster/_birch.py:154: 10899.8 KiB\n",
            "    self.init_centroids_ = np.zeros((branching_factor + 1, n_features))\n",
            "780 other: 0.0404219888150692 GiB for Agglomerative\n",
            "Total allocated size: 7.677719634026289 GiB for Agglomerative\n",
            "score for Agglomerative is 0.39384637347006024\n",
            "aglo clustering time: 113.98634028434753\n"
          ]
        }
      ]
    },
    {
      "cell_type": "code",
      "source": [
        "run_time = dict(zip(method,time_elapsed))\n",
        "sscore_dict = dict(zip(method,slscore))\n",
        "print(run_time)"
      ],
      "metadata": {
        "colab": {
          "base_uri": "https://localhost:8080/"
        },
        "id": "FIZ9JijH5ROV",
        "outputId": "8782e263-7a55-429f-84d5-2fa76df11266"
      },
      "execution_count": null,
      "outputs": [
        {
          "output_type": "stream",
          "name": "stdout",
          "text": [
            "{'k-means': 2.0445101261138916, 'minibatch-kmeans': 25.829875230789185, 'birch': 160.0460238456726, 'GMM': 7.71349310874939, 'mean shift': 1778.6100211143494, 'optics': 951.1588716506958, 'Agglomerative': 113.98634028434753}\n"
          ]
        }
      ]
    },
    {
      "cell_type": "code",
      "execution_count": null,
      "metadata": {
        "colab": {
          "base_uri": "https://localhost:8080/",
          "height": 354
        },
        "id": "l9ZgilAHRQqt",
        "outputId": "cfed1b1b-d285-46f5-8802-6ef4a3cf463a"
      },
      "outputs": [
        {
          "output_type": "display_data",
          "data": {
            "text/plain": [
              "<Figure size 432x288 with 1 Axes>"
            ],
            "image/png": "[encoded data removed]"
          },
          "metadata": {}
        }
      ],
      "source": [
        "plt.yscale('log')\n",
        "plt.bar(range(len(run_time)), list(run_time.values()), align='center',color = ['red', 'yellow','green','black', 'blue', 'orange','pink'])\n",
        "plt.xticks(range(len(run_time)), list(run_time.keys()),rotation = 45)\n",
        "plt.ylabel(\"time in seconds (log scale)\")\n",
        "plt.title(\"run time on data size 45211 rows and 17 features\")\n",
        "plt.show()"
      ]
    },
    {
      "cell_type": "code",
      "source": [
        "plt.bar(range(len(sscore_dict)), list(sscore_dict.values()), align='center',color = ['red', 'yellow','green','black', 'blue', 'orange','pink'])\n",
        "plt.xticks(range(len(sscore_dict)), list(sscore_dict.keys()),rotation = 45)\n",
        "plt.ylabel(\"silhouette_score\")\n",
        "plt.ylim(0,1)\n",
        "plt.title(\"silhouette_score for 6 models\")\n",
        "plt.show()"
      ],
      "metadata": {
        "colab": {
          "base_uri": "https://localhost:8080/",
          "height": 354
        },
        "id": "1l6TFngGeJYt",
        "outputId": "0f60bb58-e57c-47f8-df02-7e0c51bc0616"
      },
      "execution_count": null,
      "outputs": [
        {
          "output_type": "display_data",
          "data": {
            "text/plain": [
              "<Figure size 432x288 with 1 Axes>"
            ],
            "image/png": "[encoded data removed]"
          },
          "metadata": {}
        }
      ]
    }
  ],
  "metadata": {
    "colab": {
      "collapsed_sections": [],
      "machine_shape": "hm",
      "name": "clustering_benchmarking.ipynb",
      "provenance": [],
      "authorship_tag": "ABX9TyOT8zDzizckxkF1O4VAS9pE",
      "include_colab_link": true
    },
    "gpuClass": "standard",
    "kernelspec": {
      "display_name": "Python 3",
      "name": "python3"
    },
    "language_info": {
      "name": "python"
    }
  },
  "nbformat": 4,
  "nbformat_minor": 0
}